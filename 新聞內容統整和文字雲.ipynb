{
 "cells": [
  {
   "cell_type": "markdown",
   "metadata": {},
   "source": [
    "目錄\n",
    "* [資料（內文）處理](#資料（內文）處理)\n",
    "    * [正規表示法](#正規表示法)\n",
    "    * [斷詞](#斷詞)\n",
    "    * [匯出資料](#匯出資料)\n",
    "* [訓練模型（分類器）](#訓練模型（分類器）)\n",
    "    * [Count-Vector](#Count-Vector)\n",
    "    * [Tfidf-Vector](#Tfidf-Vector)\n",
    "    * [統整分類結果](#統整分類結果)\n",
    "* [分類結果分析](#分類結果分析)\n",
    "    * [分類結果比較](#分類結果比較)\n",
    "    * [預測錯誤次數](#預測錯誤次數)\n",
    "* [文字雲](#文字雲)\n",
    "    * [文本處理](#文本處理)\n",
    "    * [繪製文字雲](#繪製文字雲)\n",
    "    * [文本匯出](#文本匯出)"
   ]
  },
  {
   "cell_type": "markdown",
   "metadata": {},
   "source": [
    "## 資料（內文）處理"
   ]
  },
  {
   "cell_type": "code",
   "execution_count": 1,
   "metadata": {},
   "outputs": [
    {
     "data": {
      "text/html": [
       "<div>\n",
       "<style scoped>\n",
       "    .dataframe tbody tr th:only-of-type {\n",
       "        vertical-align: middle;\n",
       "    }\n",
       "\n",
       "    .dataframe tbody tr th {\n",
       "        vertical-align: top;\n",
       "    }\n",
       "\n",
       "    .dataframe thead th {\n",
       "        text-align: right;\n",
       "    }\n",
       "</style>\n",
       "<table border=\"1\" class=\"dataframe\">\n",
       "  <thead>\n",
       "    <tr style=\"text-align: right;\">\n",
       "      <th></th>\n",
       "      <th>title</th>\n",
       "      <th>category</th>\n",
       "      <th>內文</th>\n",
       "      <th>內文斷詞</th>\n",
       "    </tr>\n",
       "  </thead>\n",
       "  <tbody>\n",
       "    <tr>\n",
       "      <th>0</th>\n",
       "      <td>永豐餘工紙董事長換人 由邱創華出任、擬4方向衝營運成長</td>\n",
       "      <td>財經</td>\n",
       "      <td>['  ▲永豐餘工紙董事長將換成邱創華擔任。（圖／記者余弦妙攝） 記者余弦妙／台北報導 永豐...</td>\n",
       "      <td>NaN</td>\n",
       "    </tr>\n",
       "    <tr>\n",
       "      <th>1</th>\n",
       "      <td>趙少康臉書「表態黨主席挺朱立倫」 江啟臣幕僚緊張留言</td>\n",
       "      <td>政治</td>\n",
       "      <td>['      ▲趙少康臉書大玩愚人節哏。（圖／翻攝自趙少康臉書） 記者羅婉庭／台北報導 中...</td>\n",
       "      <td>NaN</td>\n",
       "    </tr>\n",
       "    <tr>\n",
       "      <th>2</th>\n",
       "      <td>兒媳暗示2024大選 川普要「挽救美國」 慘遭臉書封殺</td>\n",
       "      <td>國際</td>\n",
       "      <td>['     ▲最新民調顯示，前總統川普在2024年大選共和黨黨內提名中非常受歡迎。（圖／路...</td>\n",
       "      <td>NaN</td>\n",
       "    </tr>\n",
       "    <tr>\n",
       "      <th>3</th>\n",
       "      <td>掛牌58年「老牌大廠」坑殺股民！蘋果裝成奧梨仔 4萬人虧慘了</td>\n",
       "      <td>財經</td>\n",
       "      <td>['   圖文／鏡週刊 掛牌長達58年的老牌台灣紙業公司，去年4月召開臨時股東會決定下市後，...</td>\n",
       "      <td>NaN</td>\n",
       "    </tr>\n",
       "    <tr>\n",
       "      <th>4</th>\n",
       "      <td>楊丞琳再演靈異片 哭完背部感受「有手輕拍」！回頭得知溫暖真相</td>\n",
       "      <td>影視與娛樂</td>\n",
       "      <td>['  記者吳孟庭／台北報導 楊丞琳在《紅衣小女孩2》後再度演出靈異驚悚電影，於新片《靈語》...</td>\n",
       "      <td>NaN</td>\n",
       "    </tr>\n",
       "  </tbody>\n",
       "</table>\n",
       "</div>"
      ],
      "text/plain": [
       "                            title category  \\\n",
       "0     永豐餘工紙董事長換人 由邱創華出任、擬4方向衝營運成長       財經   \n",
       "1      趙少康臉書「表態黨主席挺朱立倫」 江啟臣幕僚緊張留言       政治   \n",
       "2     兒媳暗示2024大選 川普要「挽救美國」 慘遭臉書封殺       國際   \n",
       "3  掛牌58年「老牌大廠」坑殺股民！蘋果裝成奧梨仔 4萬人虧慘了       財經   \n",
       "4  楊丞琳再演靈異片 哭完背部感受「有手輕拍」！回頭得知溫暖真相    影視與娛樂   \n",
       "\n",
       "                                                  內文 內文斷詞  \n",
       "0  ['  ▲永豐餘工紙董事長將換成邱創華擔任。（圖／記者余弦妙攝） 記者余弦妙／台北報導 永豐...  NaN  \n",
       "1  ['      ▲趙少康臉書大玩愚人節哏。（圖／翻攝自趙少康臉書） 記者羅婉庭／台北報導 中...  NaN  \n",
       "2  ['     ▲最新民調顯示，前總統川普在2024年大選共和黨黨內提名中非常受歡迎。（圖／路...  NaN  \n",
       "3  ['   圖文／鏡週刊 掛牌長達58年的老牌台灣紙業公司，去年4月召開臨時股東會決定下市後，...  NaN  \n",
       "4  ['  記者吳孟庭／台北報導 楊丞琳在《紅衣小女孩2》後再度演出靈異驚悚電影，於新片《靈語》...  NaN  "
      ]
     },
     "execution_count": 1,
     "metadata": {},
     "output_type": "execute_result"
    }
   ],
   "source": [
    "import pandas as pd\n",
    "# news = pd.read_csv('D://Downloads//2021大四下//大數據分析//Final Project//新聞分類統整.csv')\n",
    "news = pd.read_csv('./新聞分類統整.csv')\n",
    "news = news.drop(columns = ['Unnamed: 0','number'])\n",
    "news = news.rename(columns = {'content': '內文'})\n",
    "news.head()"
   ]
  },
  {
   "cell_type": "markdown",
   "metadata": {},
   "source": [
    "### 正規表示法 \n",
    "#### 利用 re 刪去數字、英文、符號"
   ]
  },
  {
   "cell_type": "code",
   "execution_count": 2,
   "metadata": {},
   "outputs": [],
   "source": [
    "import re\n",
    "new_news_list = list(news['內文'])    \n",
    "for i in range(len(new_news_list)):\n",
    "    new_news_list[i] = re.sub(r'[\\d\\WA-Za-z]+', '', new_news_list[i])"
   ]
  },
  {
   "cell_type": "markdown",
   "metadata": {},
   "source": [
    "### 斷詞\n",
    "#### 利用 jieba 斷詞"
   ]
  },
  {
   "cell_type": "code",
   "execution_count": 3,
   "metadata": {
    "scrolled": true
   },
   "outputs": [
    {
     "name": "stderr",
     "output_type": "stream",
     "text": [
      "Building prefix dict from the default dictionary ...\n",
      "Loading model from cache C:\\Users\\user\\AppData\\Local\\Temp\\jieba.cache\n",
      "Loading model cost 1.158 seconds.\n",
      "Prefix dict has been built successfully.\n"
     ]
    },
    {
     "data": {
      "text/html": [
       "<div>\n",
       "<style scoped>\n",
       "    .dataframe tbody tr th:only-of-type {\n",
       "        vertical-align: middle;\n",
       "    }\n",
       "\n",
       "    .dataframe tbody tr th {\n",
       "        vertical-align: top;\n",
       "    }\n",
       "\n",
       "    .dataframe thead th {\n",
       "        text-align: right;\n",
       "    }\n",
       "</style>\n",
       "<table border=\"1\" class=\"dataframe\">\n",
       "  <thead>\n",
       "    <tr style=\"text-align: right;\">\n",
       "      <th></th>\n",
       "      <th>title</th>\n",
       "      <th>category</th>\n",
       "      <th>content</th>\n",
       "      <th>內文斷詞</th>\n",
       "    </tr>\n",
       "  </thead>\n",
       "  <tbody>\n",
       "    <tr>\n",
       "      <th>0</th>\n",
       "      <td>永豐餘工紙董事長換人 由邱創華出任、擬4方向衝營運成長</td>\n",
       "      <td>財經</td>\n",
       "      <td>['  ▲永豐餘工紙董事長將換成邱創華擔任。（圖／記者余弦妙攝） 記者余弦妙／台北報導 永豐...</td>\n",
       "      <td>永豐餘 工紙 董事 長 將換成 邱 創華擔 任圖 記者 余弦 妙攝 記者 余弦 妙 台北 報...</td>\n",
       "    </tr>\n",
       "    <tr>\n",
       "      <th>1</th>\n",
       "      <td>趙少康臉書「表態黨主席挺朱立倫」 江啟臣幕僚緊張留言</td>\n",
       "      <td>政治</td>\n",
       "      <td>['      ▲趙少康臉書大玩愚人節哏。（圖／翻攝自趙少康臉書） 記者羅婉庭／台北報導 中...</td>\n",
       "      <td>趙 少康 臉書大 玩 愚人 節哏 圖翻 攝自 趙 少康 臉書 記者羅婉庭 台北 報導 中廣 ...</td>\n",
       "    </tr>\n",
       "    <tr>\n",
       "      <th>2</th>\n",
       "      <td>兒媳暗示2024大選 川普要「挽救美國」 慘遭臉書封殺</td>\n",
       "      <td>國際</td>\n",
       "      <td>['     ▲最新民調顯示，前總統川普在2024年大選共和黨黨內提名中非常受歡迎。（圖／路...</td>\n",
       "      <td>最新 民調 顯示 前 總 統川普 在 年 大選 共和 黨黨 內 提名 中 非常 受歡 迎圖 ...</td>\n",
       "    </tr>\n",
       "    <tr>\n",
       "      <th>3</th>\n",
       "      <td>掛牌58年「老牌大廠」坑殺股民！蘋果裝成奧梨仔 4萬人虧慘了</td>\n",
       "      <td>財經</td>\n",
       "      <td>['   圖文／鏡週刊 掛牌長達58年的老牌台灣紙業公司，去年4月召開臨時股東會決定下市後，...</td>\n",
       "      <td>圖文鏡 週刊 掛牌 長 達 年 的 老牌 台灣 紙業 公司 去年 月 召開 臨時 股東會決 ...</td>\n",
       "    </tr>\n",
       "    <tr>\n",
       "      <th>4</th>\n",
       "      <td>楊丞琳再演靈異片 哭完背部感受「有手輕拍」！回頭得知溫暖真相</td>\n",
       "      <td>影視與娛樂</td>\n",
       "      <td>['  記者吳孟庭／台北報導 楊丞琳在《紅衣小女孩2》後再度演出靈異驚悚電影，於新片《靈語》...</td>\n",
       "      <td>記者 吳孟庭 台北 報導 楊丞琳 在 紅衣 小女孩 後 再度 演出 靈異 驚悚電影 於 新片...</td>\n",
       "    </tr>\n",
       "  </tbody>\n",
       "</table>\n",
       "</div>"
      ],
      "text/plain": [
       "                            title category  \\\n",
       "0     永豐餘工紙董事長換人 由邱創華出任、擬4方向衝營運成長       財經   \n",
       "1      趙少康臉書「表態黨主席挺朱立倫」 江啟臣幕僚緊張留言       政治   \n",
       "2     兒媳暗示2024大選 川普要「挽救美國」 慘遭臉書封殺       國際   \n",
       "3  掛牌58年「老牌大廠」坑殺股民！蘋果裝成奧梨仔 4萬人虧慘了       財經   \n",
       "4  楊丞琳再演靈異片 哭完背部感受「有手輕拍」！回頭得知溫暖真相    影視與娛樂   \n",
       "\n",
       "                                             content  \\\n",
       "0  ['  ▲永豐餘工紙董事長將換成邱創華擔任。（圖／記者余弦妙攝） 記者余弦妙／台北報導 永豐...   \n",
       "1  ['      ▲趙少康臉書大玩愚人節哏。（圖／翻攝自趙少康臉書） 記者羅婉庭／台北報導 中...   \n",
       "2  ['     ▲最新民調顯示，前總統川普在2024年大選共和黨黨內提名中非常受歡迎。（圖／路...   \n",
       "3  ['   圖文／鏡週刊 掛牌長達58年的老牌台灣紙業公司，去年4月召開臨時股東會決定下市後，...   \n",
       "4  ['  記者吳孟庭／台北報導 楊丞琳在《紅衣小女孩2》後再度演出靈異驚悚電影，於新片《靈語》...   \n",
       "\n",
       "                                                內文斷詞  \n",
       "0  永豐餘 工紙 董事 長 將換成 邱 創華擔 任圖 記者 余弦 妙攝 記者 余弦 妙 台北 報...  \n",
       "1  趙 少康 臉書大 玩 愚人 節哏 圖翻 攝自 趙 少康 臉書 記者羅婉庭 台北 報導 中廣 ...  \n",
       "2  最新 民調 顯示 前 總 統川普 在 年 大選 共和 黨黨 內 提名 中 非常 受歡 迎圖 ...  \n",
       "3  圖文鏡 週刊 掛牌 長 達 年 的 老牌 台灣 紙業 公司 去年 月 召開 臨時 股東會決 ...  \n",
       "4  記者 吳孟庭 台北 報導 楊丞琳 在 紅衣 小女孩 後 再度 演出 靈異 驚悚電影 於 新片...  "
      ]
     },
     "execution_count": 3,
     "metadata": {},
     "output_type": "execute_result"
    }
   ],
   "source": [
    "import jieba\n",
    "content_piece = []\n",
    "for article in new_news_list:\n",
    "    seg_list = jieba.cut(article)\n",
    "    content_piece.append(' '.join(seg_list))\n",
    "    \n",
    "news['內文斷詞'] = content_piece\n",
    "news = news.rename(columns = {'內文': 'content'})\n",
    "news.head()"
   ]
  },
  {
   "cell_type": "markdown",
   "metadata": {},
   "source": [
    "### 匯出資料\n",
    "#### （含有全部資料內文和內文斷詞）"
   ]
  },
  {
   "cell_type": "code",
   "execution_count": 4,
   "metadata": {},
   "outputs": [],
   "source": [
    "#news.to_csv('新聞分類統整(含斷詞).csv')\n",
    "#news['category'].value_counts()"
   ]
  },
  {
   "cell_type": "markdown",
   "metadata": {},
   "source": [
    "---\n",
    "## 訓練模型（分類器）\n",
    "**此部分將不納入報告中，為當初測試用 :)**  \n",
    "https://tlyu0419.github.io/2020/04/04/Text-Classification/?fbclid=IwAR2t27jNAu-FxEQs0r2UwAmQZu_HEH0Ou9aYibQJAnvh9L9gZk1dTMcI0Fc\n",
    "### 將有段詞的內文，以不同模型, min_df = 2，分別用 Count-Vector 和 TFIDF-Vector 的文字特徵處理方法，去訓練模型"
   ]
  },
  {
   "cell_type": "markdown",
   "metadata": {},
   "source": [
    "### 分割資料\n",
    "#### 將資料分成訓練集（0.8）和測試集（0.2），random_state = 0"
   ]
  },
  {
   "cell_type": "code",
   "execution_count": 5,
   "metadata": {},
   "outputs": [],
   "source": [
    "from sklearn.model_selection import train_test_split\n",
    "X_train, X_test, y_train, y_test = train_test_split(news['內文斷詞'], news['category'], test_size = 0.2, random_state = 0)"
   ]
  },
  {
   "cell_type": "markdown",
   "metadata": {},
   "source": [
    "### Count-Vector\n",
    "#### 將 X 訓練集和測試集經 CountVectorizer 處理"
   ]
  },
  {
   "cell_type": "code",
   "execution_count": 6,
   "metadata": {
    "scrolled": true
   },
   "outputs": [
    {
     "data": {
      "text/plain": [
       "<7356x85096 sparse matrix of type '<class 'numpy.int64'>'\n",
       "\twith 1193298 stored elements in Compressed Sparse Row format>"
      ]
     },
     "execution_count": 6,
     "metadata": {},
     "output_type": "execute_result"
    }
   ],
   "source": [
    "from sklearn.feature_extraction.text import CountVectorizer, TfidfVectorizer\n",
    "count_vect = CountVectorizer(token_pattern = r'\\w{1,}', min_df = 2)\n",
    "count_vect.fit(news['內文斷詞'])\n",
    "counts_train = CountVectorizer(vocabulary = count_vect.vocabulary_).fit_transform(X_train)\n",
    "counts_test = CountVectorizer(vocabulary = count_vect.vocabulary_).fit_transform(X_test)\n",
    "counts_train"
   ]
  },
  {
   "cell_type": "markdown",
   "metadata": {},
   "source": [
    "#### Logistic Regression 分類器"
   ]
  },
  {
   "cell_type": "code",
   "execution_count": 7,
   "metadata": {},
   "outputs": [],
   "source": [
    "from sklearn.linear_model import LogisticRegression \n",
    "from sklearn import metrics\n",
    "LR_clf = LogisticRegression(max_iter=1000, n_jobs=-1)   "
   ]
  },
  {
   "cell_type": "code",
   "execution_count": 8,
   "metadata": {},
   "outputs": [
    {
     "name": "stdout",
     "output_type": "stream",
     "text": [
      "========================================  Score on Counts feature  ========================================\n",
      "Classifier: Logistic regression; method: count vector\n",
      "Score on Train:  1.0\n",
      "Score on Test:  0.8085916258836324\n",
      "====================================================================================================\n",
      "Wall time: 2min 18s\n"
     ]
    }
   ],
   "source": [
    "%%time\n",
    "# Maximum number of iterations taken for the solvers to converge.\n",
    "LR_clf.fit(counts_train, y_train)\n",
    "print('='*40, ' Score on Counts feature ', '='*40)\n",
    "print('Classifier: Logistic regression; method: count vector')\n",
    "LR_CV_train = LR_clf.predict(counts_train)\n",
    "LR_CV_test = LR_clf.predict(counts_test)\n",
    "print('Score on Train: ', metrics.accuracy_score(y_train, LR_CV_train))\n",
    "print('Score on Test: ', metrics.accuracy_score(y_test, LR_CV_test))\n",
    "print('='*100)"
   ]
  },
  {
   "cell_type": "markdown",
   "metadata": {},
   "source": [
    "#### XGBoost 分類器"
   ]
  },
  {
   "cell_type": "code",
   "execution_count": 9,
   "metadata": {},
   "outputs": [],
   "source": [
    "import xgboost as xgb\n",
    "xgb_clf = xgb.XGBClassifier(n_estimators=500, objective='multi:softmax', n_jobs=-1, silent=False)"
   ]
  },
  {
   "cell_type": "code",
   "execution_count": 10,
   "metadata": {},
   "outputs": [
    {
     "name": "stderr",
     "output_type": "stream",
     "text": [
      "C:\\Users\\user\\anaconda3\\lib\\site-packages\\xgboost\\sklearn.py:1146: UserWarning: The use of label encoder in XGBClassifier is deprecated and will be removed in a future release. To remove this warning, do the following: 1) Pass option use_label_encoder=False when constructing XGBClassifier object; and 2) Encode your labels (y) as integers starting with 0, i.e. 0, 1, 2, ..., [num_class - 1].\n",
      "  warnings.warn(label_encoder_deprecation_msg, UserWarning)\n"
     ]
    },
    {
     "name": "stdout",
     "output_type": "stream",
     "text": [
      "[16:14:12] WARNING: C:/Users/Administrator/workspace/xgboost-win64_release_1.4.0/src/learner.cc:573: \n",
      "Parameters: { \"silent\" } might not be used.\n",
      "\n",
      "  This may not be accurate due to some parameters are only used in language bindings but\n",
      "  passed down to XGBoost core.  Or some parameters are not used but slip through this\n",
      "  verification. Please open an issue if you find above cases.\n",
      "\n",
      "\n",
      "[16:14:13] WARNING: C:/Users/Administrator/workspace/xgboost-win64_release_1.4.0/src/learner.cc:1095: Starting in XGBoost 1.3.0, the default evaluation metric used with the objective 'multi:softprob' was changed from 'merror' to 'mlogloss'. Explicitly set eval_metric if you'd like to restore the old behavior.\n",
      "========================================  Score on Counts feature  ========================================\n",
      "Classifier:XGBoost; method: count vector\n",
      "Score on Train:  1.0\n",
      "Score on Test:  0.8471995649809679\n",
      "====================================================================================================\n",
      "Wall time: 4min 21s\n"
     ]
    }
   ],
   "source": [
    "%%time\n",
    "# Maximum number of iterations taken for the solvers to converge.\n",
    "xgb_clf.fit(counts_train, y_train)\n",
    "print('='*40, ' Score on Counts feature ', '='*40)\n",
    "print('Classifier:XGBoost; method: count vector')\n",
    "xgb_CV_train = xgb_clf.predict(counts_train)\n",
    "xgb_CV_test = xgb_clf.predict(counts_test)\n",
    "print('Score on Train: ', metrics.accuracy_score(y_train, xgb_CV_train))\n",
    "print('Score on Test: ', metrics.accuracy_score(y_test, xgb_CV_test))\n",
    "print('='*100)"
   ]
  },
  {
   "cell_type": "markdown",
   "metadata": {},
   "source": [
    "#### SVM linear分類器"
   ]
  },
  {
   "cell_type": "code",
   "execution_count": 11,
   "metadata": {},
   "outputs": [],
   "source": [
    "from sklearn.svm import SVC\n",
    "SVM_clf = SVC(kernel='linear')"
   ]
  },
  {
   "cell_type": "code",
   "execution_count": 12,
   "metadata": {},
   "outputs": [
    {
     "name": "stdout",
     "output_type": "stream",
     "text": [
      "========================================  Score on Counts feature  ========================================\n",
      "Classifier: SVM(SVC='kernal'); method: count vector\n",
      "Score on Train:  1.0\n",
      "Score on Test:  0.8091353996737357\n",
      "====================================================================================================\n",
      "Wall time: 3min 37s\n"
     ]
    }
   ],
   "source": [
    "%%time\n",
    "SVM_clf.fit(counts_train, y_train)\n",
    "print('='*40, ' Score on Counts feature ', '='*40)\n",
    "print('Classifier: SVM(SVC=\\'kernal\\'); method: count vector')\n",
    "SVM_CV_train = SVM_clf.predict(counts_train)\n",
    "SVM_CV_test = SVM_clf.predict(counts_test)\n",
    "print('Score on Train: ', metrics.accuracy_score(y_train, SVM_CV_train))\n",
    "print('Score on Test: ', metrics.accuracy_score(y_test, SVM_CV_test))\n",
    "print('='*100)"
   ]
  },
  {
   "cell_type": "markdown",
   "metadata": {},
   "source": [
    "---\n",
    "### Tfidf-Vector\n",
    "#### 將 X 訓練集和測試集經 TfidfVectorizer 處理"
   ]
  },
  {
   "cell_type": "code",
   "execution_count": 13,
   "metadata": {
    "scrolled": true
   },
   "outputs": [
    {
     "data": {
      "text/plain": [
       "<7356x85096 sparse matrix of type '<class 'numpy.float64'>'\n",
       "\twith 1193298 stored elements in Compressed Sparse Row format>"
      ]
     },
     "execution_count": 13,
     "metadata": {},
     "output_type": "execute_result"
    }
   ],
   "source": [
    "tfidf_vect = TfidfVectorizer(token_pattern = r'\\w{1,}', min_df = 2)\n",
    "tfidf_vect.fit(news['內文斷詞'])\n",
    "tfidf_train = TfidfVectorizer(vocabulary=tfidf_vect.vocabulary_).fit_transform(X_train)\n",
    "tfidf_test = TfidfVectorizer(vocabulary=tfidf_vect.vocabulary_).fit_transform(X_test)\n",
    "tfidf_train"
   ]
  },
  {
   "cell_type": "markdown",
   "metadata": {},
   "source": [
    "#### Logistic Regression 分類器"
   ]
  },
  {
   "cell_type": "code",
   "execution_count": 14,
   "metadata": {},
   "outputs": [
    {
     "name": "stdout",
     "output_type": "stream",
     "text": [
      "========================================  Score on TFIDF feature  ========================================\n",
      "Classifier: Logistic regression; method: tfidf\n",
      "Score on Train:  0.8902936378466558\n",
      "Score on Test:  0.768352365415987\n",
      "====================================================================================================\n",
      "Wall time: 54.2 s\n"
     ]
    }
   ],
   "source": [
    "%%time \n",
    "LR_clf.fit(tfidf_train, y_train)\n",
    "print('='*40, ' Score on TFIDF feature ', '='*40)\n",
    "print('Classifier: Logistic regression; method: tfidf')\n",
    "LR_tfidf_train = LR_clf.predict(tfidf_train)\n",
    "LR_tfidf_test = LR_clf.predict(tfidf_test)\n",
    "print('Score on Train: ', metrics.accuracy_score(y_train, LR_tfidf_train))\n",
    "print('Score on Test: ', metrics.accuracy_score(y_test, LR_tfidf_test))\n",
    "print('='*100)"
   ]
  },
  {
   "cell_type": "markdown",
   "metadata": {},
   "source": [
    "#### XGBoost 分類器"
   ]
  },
  {
   "cell_type": "code",
   "execution_count": 15,
   "metadata": {},
   "outputs": [
    {
     "name": "stderr",
     "output_type": "stream",
     "text": [
      "C:\\Users\\user\\anaconda3\\lib\\site-packages\\xgboost\\sklearn.py:1146: UserWarning: The use of label encoder in XGBClassifier is deprecated and will be removed in a future release. To remove this warning, do the following: 1) Pass option use_label_encoder=False when constructing XGBClassifier object; and 2) Encode your labels (y) as integers starting with 0, i.e. 0, 1, 2, ..., [num_class - 1].\n",
      "  warnings.warn(label_encoder_deprecation_msg, UserWarning)\n"
     ]
    },
    {
     "name": "stdout",
     "output_type": "stream",
     "text": [
      "[16:23:17] WARNING: C:/Users/Administrator/workspace/xgboost-win64_release_1.4.0/src/learner.cc:573: \n",
      "Parameters: { \"silent\" } might not be used.\n",
      "\n",
      "  This may not be accurate due to some parameters are only used in language bindings but\n",
      "  passed down to XGBoost core.  Or some parameters are not used but slip through this\n",
      "  verification. Please open an issue if you find above cases.\n",
      "\n",
      "\n",
      "[16:23:19] WARNING: C:/Users/Administrator/workspace/xgboost-win64_release_1.4.0/src/learner.cc:1095: Starting in XGBoost 1.3.0, the default evaluation metric used with the objective 'multi:softprob' was changed from 'merror' to 'mlogloss'. Explicitly set eval_metric if you'd like to restore the old behavior.\n",
      "========================================  Score on TFIDF feature  ========================================\n",
      "Classifier: XGBoost; method: tfidf\n",
      "Score on Train:  1.0\n",
      "Score on Test:  0.835236541598695\n",
      "====================================================================================================\n",
      "Wall time: 6min 7s\n"
     ]
    }
   ],
   "source": [
    "%%time \n",
    "xgb_clf.fit(tfidf_train, y_train)\n",
    "print('='*40, ' Score on TFIDF feature ', '='*40)\n",
    "print('Classifier: XGBoost; method: tfidf')\n",
    "xgb_tfidf_train = xgb_clf.predict(tfidf_train)\n",
    "xgb_tfidf_test = xgb_clf.predict(tfidf_test)\n",
    "print('Score on Train: ', metrics.accuracy_score(y_train, xgb_tfidf_train))\n",
    "print('Score on Test: ', metrics.accuracy_score(y_test, xgb_tfidf_test))\n",
    "print('='*100)"
   ]
  },
  {
   "cell_type": "markdown",
   "metadata": {},
   "source": [
    "#### SVM linear分類器"
   ]
  },
  {
   "cell_type": "code",
   "execution_count": 16,
   "metadata": {},
   "outputs": [
    {
     "name": "stdout",
     "output_type": "stream",
     "text": [
      "========================================  Score on TFIDF feature  ========================================\n",
      "Classifier: SVM(SVC='kernal'); method: tfidf\n",
      "Score on Train:  0.975258292550299\n",
      "Score on Test:  0.8069603045133225\n",
      "====================================================================================================\n",
      "Wall time: 5min 34s\n"
     ]
    }
   ],
   "source": [
    "%%time\n",
    "SVM_clf.fit(tfidf_train, y_train)\n",
    "print('='*40, ' Score on TFIDF feature ', '='*40)\n",
    "print('Classifier: SVM(SVC=\\'kernal\\'); method: tfidf')\n",
    "SVM_tfidf_train = SVM_clf.predict(tfidf_train)\n",
    "SVM_tfidf_test = SVM_clf.predict(tfidf_test)\n",
    "print('Score on Train: ', metrics.accuracy_score(y_train,  SVM_tfidf_train))\n",
    "print('Score on Test: ', metrics.accuracy_score(y_test, SVM_tfidf_test))\n",
    "print('='*100)"
   ]
  },
  {
   "cell_type": "markdown",
   "metadata": {},
   "source": [
    "### 統整分類結果"
   ]
  },
  {
   "cell_type": "code",
   "execution_count": 17,
   "metadata": {},
   "outputs": [
    {
     "data": {
      "text/html": [
       "<div>\n",
       "<style scoped>\n",
       "    .dataframe tbody tr th:only-of-type {\n",
       "        vertical-align: middle;\n",
       "    }\n",
       "\n",
       "    .dataframe tbody tr th {\n",
       "        vertical-align: top;\n",
       "    }\n",
       "\n",
       "    .dataframe thead th {\n",
       "        text-align: right;\n",
       "    }\n",
       "</style>\n",
       "<table border=\"1\" class=\"dataframe\">\n",
       "  <thead>\n",
       "    <tr style=\"text-align: right;\">\n",
       "      <th></th>\n",
       "      <th>Model</th>\n",
       "      <th>Method</th>\n",
       "      <th>min_df</th>\n",
       "      <th>content</th>\n",
       "      <th>Train accuracy</th>\n",
       "      <th>Test accuracy</th>\n",
       "    </tr>\n",
       "  </thead>\n",
       "  <tbody>\n",
       "    <tr>\n",
       "      <th>0</th>\n",
       "      <td>Logistic</td>\n",
       "      <td>CV</td>\n",
       "      <td>2</td>\n",
       "      <td>斷詞</td>\n",
       "      <td>1.000000</td>\n",
       "      <td>0.808592</td>\n",
       "    </tr>\n",
       "    <tr>\n",
       "      <th>1</th>\n",
       "      <td>XGBoost</td>\n",
       "      <td>CV</td>\n",
       "      <td>2</td>\n",
       "      <td>斷詞</td>\n",
       "      <td>1.000000</td>\n",
       "      <td>0.847200</td>\n",
       "    </tr>\n",
       "    <tr>\n",
       "      <th>2</th>\n",
       "      <td>SVM</td>\n",
       "      <td>CV</td>\n",
       "      <td>2</td>\n",
       "      <td>斷詞</td>\n",
       "      <td>1.000000</td>\n",
       "      <td>0.809135</td>\n",
       "    </tr>\n",
       "    <tr>\n",
       "      <th>3</th>\n",
       "      <td>Logistic</td>\n",
       "      <td>tfidf</td>\n",
       "      <td>2</td>\n",
       "      <td>斷詞</td>\n",
       "      <td>0.890294</td>\n",
       "      <td>0.768352</td>\n",
       "    </tr>\n",
       "    <tr>\n",
       "      <th>4</th>\n",
       "      <td>XGBoost</td>\n",
       "      <td>tfidf</td>\n",
       "      <td>2</td>\n",
       "      <td>斷詞</td>\n",
       "      <td>1.000000</td>\n",
       "      <td>0.835237</td>\n",
       "    </tr>\n",
       "    <tr>\n",
       "      <th>5</th>\n",
       "      <td>SVM</td>\n",
       "      <td>tfidf</td>\n",
       "      <td>2</td>\n",
       "      <td>斷詞</td>\n",
       "      <td>0.975258</td>\n",
       "      <td>0.806960</td>\n",
       "    </tr>\n",
       "  </tbody>\n",
       "</table>\n",
       "</div>"
      ],
      "text/plain": [
       "      Model Method  min_df content  Train accuracy  Test accuracy\n",
       "0  Logistic     CV       2      斷詞        1.000000       0.808592\n",
       "1   XGBoost     CV       2      斷詞        1.000000       0.847200\n",
       "2       SVM     CV       2      斷詞        1.000000       0.809135\n",
       "3  Logistic  tfidf       2      斷詞        0.890294       0.768352\n",
       "4   XGBoost  tfidf       2      斷詞        1.000000       0.835237\n",
       "5       SVM  tfidf       2      斷詞        0.975258       0.806960"
      ]
     },
     "execution_count": 17,
     "metadata": {},
     "output_type": "execute_result"
    }
   ],
   "source": [
    "pd.DataFrame({'Model':['Logistic', 'XGBoost', 'SVM', 'Logistic', 'XGBoost', 'SVM'],\n",
    "              'Method': ['CV','CV','CV','tfidf','tfidf','tfidf'],\n",
    "              'min_df': [2,2,2,2,2,2],\n",
    "              'content': ['斷詞','斷詞','斷詞','斷詞','斷詞','斷詞'],\n",
    "              'Train accuracy': \n",
    "              [metrics.accuracy_score(y_train, LR_CV_train),\n",
    "               metrics.accuracy_score(y_train, xgb_CV_train),\n",
    "               metrics.accuracy_score(y_train, SVM_CV_train),\n",
    "               metrics.accuracy_score(y_train, LR_tfidf_train),\n",
    "               metrics.accuracy_score(y_train, xgb_tfidf_train),\n",
    "               metrics.accuracy_score(y_train, SVM_tfidf_train)],\n",
    "             'Test accuracy': \n",
    "              [metrics.accuracy_score(y_test, LR_CV_test),\n",
    "               metrics.accuracy_score(y_test, xgb_CV_test),\n",
    "               metrics.accuracy_score(y_test, SVM_CV_test),\n",
    "               metrics.accuracy_score(y_test, LR_tfidf_test),\n",
    "               metrics.accuracy_score(y_test, xgb_tfidf_test),\n",
    "               metrics.accuracy_score(y_test, SVM_tfidf_test)]}, \n",
    "             )\n"
   ]
  },
  {
   "cell_type": "markdown",
   "metadata": {},
   "source": [
    "---"
   ]
  },
  {
   "cell_type": "markdown",
   "metadata": {},
   "source": [
    "## 分類結果分析\n",
    "**此部分將不納入報告中，為當初測試用 :)**  "
   ]
  },
  {
   "cell_type": "markdown",
   "metadata": {},
   "source": [
    "### 分類結果比較\n",
    "#### 將每個模型針對測試集的預測結果與測試集的真實結果，和文章標題與斷詞內文一起做成DataFrame"
   ]
  },
  {
   "cell_type": "code",
   "execution_count": 18,
   "metadata": {},
   "outputs": [
    {
     "data": {
      "text/html": [
       "<div>\n",
       "<style scoped>\n",
       "    .dataframe tbody tr th:only-of-type {\n",
       "        vertical-align: middle;\n",
       "    }\n",
       "\n",
       "    .dataframe tbody tr th {\n",
       "        vertical-align: top;\n",
       "    }\n",
       "\n",
       "    .dataframe thead th {\n",
       "        text-align: right;\n",
       "    }\n",
       "</style>\n",
       "<table border=\"1\" class=\"dataframe\">\n",
       "  <thead>\n",
       "    <tr style=\"text-align: right;\">\n",
       "      <th></th>\n",
       "      <th>title</th>\n",
       "      <th>內文斷詞</th>\n",
       "      <th>category</th>\n",
       "      <th>Logistic.CV</th>\n",
       "      <th>Logistic.tfidf</th>\n",
       "      <th>XGBoost.CV</th>\n",
       "      <th>XGBoost.tfidf</th>\n",
       "      <th>SVM.CV</th>\n",
       "      <th>SVM.tfidf</th>\n",
       "    </tr>\n",
       "  </thead>\n",
       "  <tbody>\n",
       "    <tr>\n",
       "      <th>4226</th>\n",
       "      <td>新冠肺炎》新增281例本土，261例校正回歸！急診醫師曝一張確診者X光照，只咳一天不治身亡</td>\n",
       "      <td>指揮 中心 指揮 官陳時 中 今日 宣布 有 本土 確診例 境外 例 校正 回歸例 共 新增...</td>\n",
       "      <td>生活</td>\n",
       "      <td>生活</td>\n",
       "      <td>生活</td>\n",
       "      <td>生活</td>\n",
       "      <td>生活</td>\n",
       "      <td>生活</td>\n",
       "      <td>生活</td>\n",
       "    </tr>\n",
       "    <tr>\n",
       "      <th>6785</th>\n",
       "      <td>台北市24日起禁內用 侯布雄外帶滿1500元贈麵包組</td>\n",
       "      <td>台北市 宣布 自月 起 台北市 飲食店 餐廳 全面禁止 內用 只 許外 送 或 外帶 目前 ...</td>\n",
       "      <td>生活</td>\n",
       "      <td>生活</td>\n",
       "      <td>生活</td>\n",
       "      <td>生活</td>\n",
       "      <td>生活</td>\n",
       "      <td>生活</td>\n",
       "      <td>生活</td>\n",
       "    </tr>\n",
       "    <tr>\n",
       "      <th>2006</th>\n",
       "      <td>印度爆37萬確診新高！空地成火葬場 村民絕望求助巫醫「烙鐵驅魔」</td>\n",
       "      <td>印度 新冠 肺炎 疫情 大爆 發圖 路透 記者 郭家榮 綜合 外電 報導 印度 新冠 肺炎 ...</td>\n",
       "      <td>國際</td>\n",
       "      <td>國際</td>\n",
       "      <td>國際</td>\n",
       "      <td>國際</td>\n",
       "      <td>國際</td>\n",
       "      <td>國際</td>\n",
       "      <td>國際</td>\n",
       "    </tr>\n",
       "    <tr>\n",
       "      <th>5754</th>\n",
       "      <td>三級警戒延長 微風縮短營業時間「高樓層餐廳」首推外帶外送</td>\n",
       "      <td>因應 政府 延長 第三 級 警戒 包括 微風 廣場 微風 南京 微風松 高 微風 信義微風 ...</td>\n",
       "      <td>生活</td>\n",
       "      <td>生活</td>\n",
       "      <td>生活</td>\n",
       "      <td>生活</td>\n",
       "      <td>生活</td>\n",
       "      <td>生活</td>\n",
       "      <td>生活</td>\n",
       "    </tr>\n",
       "    <tr>\n",
       "      <th>3453</th>\n",
       "      <td>百想／《精神病》吳正世2度得最佳男配：謝謝弟弟 金秀賢眼眶濕了</td>\n",
       "      <td>記者 吳睿慈 綜合 報導 南韓 一年一度 盛典 第回 百想 藝術 大賞 日 在 首爾登場 申...</td>\n",
       "      <td>影視與娛樂</td>\n",
       "      <td>影視與娛樂</td>\n",
       "      <td>影視與娛樂</td>\n",
       "      <td>影視與娛樂</td>\n",
       "      <td>影視與娛樂</td>\n",
       "      <td>影視與娛樂</td>\n",
       "      <td>影視與娛樂</td>\n",
       "    </tr>\n",
       "  </tbody>\n",
       "</table>\n",
       "</div>"
      ],
      "text/plain": [
       "                                              title  \\\n",
       "4226  新冠肺炎》新增281例本土，261例校正回歸！急診醫師曝一張確診者X光照，只咳一天不治身亡   \n",
       "6785                     台北市24日起禁內用 侯布雄外帶滿1500元贈麵包組   \n",
       "2006               印度爆37萬確診新高！空地成火葬場 村民絕望求助巫醫「烙鐵驅魔」   \n",
       "5754                  三級警戒延長 微風縮短營業時間「高樓層餐廳」首推外帶外送    \n",
       "3453                百想／《精神病》吳正世2度得最佳男配：謝謝弟弟 金秀賢眼眶濕了   \n",
       "\n",
       "                                                   內文斷詞 category Logistic.CV  \\\n",
       "4226  指揮 中心 指揮 官陳時 中 今日 宣布 有 本土 確診例 境外 例 校正 回歸例 共 新增...       生活          生活   \n",
       "6785  台北市 宣布 自月 起 台北市 飲食店 餐廳 全面禁止 內用 只 許外 送 或 外帶 目前 ...       生活          生活   \n",
       "2006  印度 新冠 肺炎 疫情 大爆 發圖 路透 記者 郭家榮 綜合 外電 報導 印度 新冠 肺炎 ...       國際          國際   \n",
       "5754  因應 政府 延長 第三 級 警戒 包括 微風 廣場 微風 南京 微風松 高 微風 信義微風 ...       生活          生活   \n",
       "3453  記者 吳睿慈 綜合 報導 南韓 一年一度 盛典 第回 百想 藝術 大賞 日 在 首爾登場 申...    影視與娛樂       影視與娛樂   \n",
       "\n",
       "     Logistic.tfidf XGBoost.CV XGBoost.tfidf SVM.CV SVM.tfidf  \n",
       "4226             生活         生活            生活     生活        生活  \n",
       "6785             生活         生活            生活     生活        生活  \n",
       "2006             國際         國際            國際     國際        國際  \n",
       "5754             生活         生活            生活     生活        生活  \n",
       "3453          影視與娛樂      影視與娛樂         影視與娛樂  影視與娛樂     影視與娛樂  "
      ]
     },
     "execution_count": 18,
     "metadata": {},
     "output_type": "execute_result"
    }
   ],
   "source": [
    "compare = pd.concat([X_test, y_test], axis = 1)\n",
    "\n",
    "clf_result = pd.DataFrame({'Logistic.CV': LR_CV_test, 'Logistic.tfidf': LR_tfidf_test, \n",
    "              'XGBoost.CV': xgb_CV_test, 'XGBoost.tfidf': xgb_tfidf_test, \n",
    "              'SVM.CV': SVM_CV_test,'SVM.tfidf': SVM_tfidf_test}, index = compare.index)\n",
    "\n",
    "compare = pd.concat([news['title'][compare.index], compare, clf_result], axis = 1)\n",
    "compare.head()\n",
    "#compare.to_csv('預測結果比對.csv')"
   ]
  },
  {
   "cell_type": "markdown",
   "metadata": {},
   "source": [
    "### 預測錯誤次數\n",
    "#### 找出那些文章預測錯誤的次數最多，並把錯誤次數最多的文章其 index 存入 list"
   ]
  },
  {
   "cell_type": "code",
   "execution_count": 19,
   "metadata": {},
   "outputs": [
    {
     "data": {
      "text/plain": [
       "[18, 25, 47, 54, 62]"
      ]
     },
     "execution_count": 19,
     "metadata": {},
     "output_type": "execute_result"
    }
   ],
   "source": [
    "# 每個方法分錯類別的文章index\n",
    "wrong_index = []\n",
    "for i in compare.columns[3:]:\n",
    "    wrong_index.append([j for j in range(len(compare)) if compare.iloc[j][i] != compare.iloc[j]['category']])\n",
    "    \n",
    "wrong_count = [j for i in wrong_index for j in i]\n",
    "\n",
    "from collections import Counter\n",
    "wrong_count = dict(Counter(wrong_count))\n",
    "\n",
    "# https://stackoverflow.com/questions/268272/getting-key-with-maximum-value-in-dictionary\n",
    "# import operator\n",
    "max_wrong_count = max(wrong_count.items())[1]     # 用 6 個模型去分類所以最多預測錯誤的次數為 6\n",
    "# 錯最多次的文章index (錯最多次為全分類器都分錯)\n",
    "max_wrong_index = [index for index, times in wrong_count.items() if times == max_wrong_count]\n",
    "max_wrong_index[0:5]"
   ]
  },
  {
   "cell_type": "markdown",
   "metadata": {},
   "source": [
    "#### 隨便找一篇錯誤次數最多的文章，看其分類結果"
   ]
  },
  {
   "cell_type": "code",
   "execution_count": 20,
   "metadata": {},
   "outputs": [
    {
     "data": {
      "text/plain": [
       "title                            一個新生兒都不能少！台灣生3胎才能申請家庭幫傭 港、星有需求就可提出\n",
       "內文斷詞              文鄭 閔聲 美國 中情局 將台灣 列為 全球 生育率 最低 國家 的 調查 證明 政府 因應...\n",
       "category                                                      影視與娛樂\n",
       "Logistic.CV                                                      政治\n",
       "Logistic.tfidf                                                   政治\n",
       "XGBoost.CV                                                       國際\n",
       "XGBoost.tfidf                                                    國際\n",
       "SVM.CV                                                           政治\n",
       "SVM.tfidf                                                        政治\n",
       "Name: 9029, dtype: object"
      ]
     },
     "execution_count": 20,
     "metadata": {},
     "output_type": "execute_result"
    }
   ],
   "source": [
    "compare.iloc[max_wrong_index[0]]"
   ]
  },
  {
   "cell_type": "markdown",
   "metadata": {},
   "source": [
    "---\n",
    "## 文字雲"
   ]
  },
  {
   "cell_type": "markdown",
   "metadata": {},
   "source": [
    "### 文本處理\n",
    "#### 將訓練集的文章內容（斷詞後），將部分詞語刪去（停用詞），並依類別做文字雲的文本\n",
    "#### 本來應該要寫成迴圈，但後來太懶了，加上停用詞是手動新增，每做一次都要觀察一次，因此就寫這樣沒有再做更動了"
   ]
  },
  {
   "cell_type": "code",
   "execution_count": 21,
   "metadata": {},
   "outputs": [],
   "source": [
    "train = pd.concat([y_train, X_train], axis = 1)\n",
    "#list(y_train.unique())\n",
    "text = ''\n",
    "#for i in list(y_train.unique()[0]):\n",
    "#    for j in train[train['category'] == i]['內文斷詞']:\n",
    "#        text += j\n",
    "i = list(y_train.unique())[14]\n",
    "for j in train[train['category'] == i]['內文斷詞']:\n",
    "    text += j\n",
    "\n",
    "stopword = ['等', '在', '上', '下', '是', '與', '為', '也', '日', '月', '年', '當', '時', '當', '和', '的', '及', '於',\n",
    "            '有', '對', '以', '但', '後', '前', '會', '每', '再', '或', '從', '就', '而', '更', '因', '此', '所', '以', '昨',\n",
    "            '今', '天', '由', '到', '都', '已', '來', '去', '往', '這', '那', '裡', '當', '讓', '了', '至', '可', '你', '我',\n",
    "            '他', '她', '它', '牠', '能', '不', '很', '還', '人', '只', '要', '此', '被', '又', '像', '好', '想', '多', '用',\n",
    "            '自己', '們', '個', '輛', '把', '隻', '之', '吧', '呢', '嗎', '一', '目', '說', '沒', '表示', '才', '過', '間',\n",
    "            '最', '看', '大', '起', '小', '少', '卻', '些', '樣', '得', '更', '跟', '如', '其中', '著', '廣告', '請', '繼', \n",
    "            '續', '閱讀', '提供', '記者', '報導', '同']\n",
    "for i in stopword:\n",
    "    text = text.replace(i, '')\n",
    "    \n"
   ]
  },
  {
   "cell_type": "markdown",
   "metadata": {},
   "source": [
    "### 繪製文字雲\n",
    "#### 將處理後的文本繪製文字雲並以圖片匯出（已將匯出步驟轉為 comment）"
   ]
  },
  {
   "cell_type": "code",
   "execution_count": 22,
   "metadata": {},
   "outputs": [
    {
     "data": {
      "text/plain": [
       "<wordcloud.wordcloud.WordCloud at 0x206192c5700>"
      ]
     },
     "execution_count": 22,
     "metadata": {},
     "output_type": "execute_result"
    }
   ],
   "source": [
    "# https://www.youtube.com/watch?v=HcKUU5nNmrs&ab_channel=CodingIsFunCodingIsFun\n",
    "# http://120.108.221.55/profchwu/dctai/%E6%95%99%E6%9D%90/%E6%96%B7%E8%A9%9E%E8%88%87%E6%96%87%E5%AD%97%E9%9B%B2/%E6%96%B7%E8%A9%9E%E8%88%87%E6%96%87%E5%AD%97%E9%9B%B2%E6%95%99%E5%AD%B8.pdf\n",
    "# https://wordcloud.timdream.org/   線上幫你用文字雲喔~~~\n",
    "#text = train[train['category']=='地方']['內文斷詞'].iloc[0]\n",
    "from wordcloud import  WordCloud\n",
    "font_path = 'C:\\\\Windows\\\\Fonts\\\\simsun.ttc'\n",
    "wc = WordCloud(\n",
    "    background_color = 'white',\n",
    "    font_path=font_path,\n",
    "    height = 600, \n",
    "    width = 400\n",
    ")\n",
    "wc.generate(text)\n",
    "#wc.to_file('wordcloud_test15.png')"
   ]
  },
  {
   "cell_type": "markdown",
   "metadata": {},
   "source": [
    "### 文本匯出\n",
    "#### 將處理後的文本匯出，以供線上文字雲繪製"
   ]
  },
  {
   "cell_type": "code",
   "execution_count": 23,
   "metadata": {},
   "outputs": [],
   "source": [
    "# https://oxygentw.net/blog/computer/python-file-utf8-encoding/\n",
    "#text_file = open(\"test.txt\", mode = \"w\",encoding=\"utf-8\")\n",
    "#text_file.write(text)\n",
    "#text_file.close()"
   ]
  }
 ],
 "metadata": {
  "kernelspec": {
   "display_name": "Python 3",
   "language": "python",
   "name": "python3"
  },
  "language_info": {
   "codemirror_mode": {
    "name": "ipython",
    "version": 3
   },
   "file_extension": ".py",
   "mimetype": "text/x-python",
   "name": "python",
   "nbconvert_exporter": "python",
   "pygments_lexer": "ipython3",
   "version": "3.8.5"
  }
 },
 "nbformat": 4,
 "nbformat_minor": 4
}
